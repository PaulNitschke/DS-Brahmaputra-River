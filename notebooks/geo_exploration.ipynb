{
 "cells": [
  {
   "cell_type": "code",
   "execution_count": 10,
   "metadata": {},
   "outputs": [],
   "source": [
    "import numpy as np\n",
    "from scipy.io import netcdf\n",
    "\n",
    "import pandas as pd\n",
    "import matplotlib.pyplot as plt\n",
    "import descartes\n",
    "import geopandas as gpd\n",
    "from shapely.geometry import Point, Polygon"
   ]
  },
  {
   "cell_type": "markdown",
   "metadata": {},
   "source": [
    "## Geographically visualise datapoints"
   ]
  },
  {
   "cell_type": "code",
   "execution_count": 5,
   "metadata": {},
   "outputs": [
    {
     "name": "stderr",
     "output_type": "stream",
     "text": [
      "/var/folders/88/dz760h_j197bwmcvghz9mrkh0000gn/T/ipykernel_64108/2496670625.py:3: DeprecationWarning: `scipy.io.netcdf.NetCDFFile` is deprecated along with the `scipy.io.netcdf` namespace. `scipy.io.netcdf.NetCDFFile` will be removed in SciPy 1.14.0, and the `scipy.io.netcdf` namespace will be removed in SciPy 2.0.0.\n",
      "  file2read_2015 = netcdf.NetCDFFile('../data/yearly_discharge/discharge_2015.nc','r')\n",
      "/var/folders/88/dz760h_j197bwmcvghz9mrkh0000gn/T/ipykernel_64108/2496670625.py:4: DeprecationWarning: `scipy.io.netcdf.NetCDFFile` is deprecated along with the `scipy.io.netcdf` namespace. `scipy.io.netcdf.NetCDFFile` will be removed in SciPy 1.14.0, and the `scipy.io.netcdf` namespace will be removed in SciPy 2.0.0.\n",
      "  file2read_2016 = netcdf.NetCDFFile('../data/yearly_discharge/discharge_2016.nc','r')\n",
      "/var/folders/88/dz760h_j197bwmcvghz9mrkh0000gn/T/ipykernel_64108/2496670625.py:5: DeprecationWarning: `scipy.io.netcdf.NetCDFFile` is deprecated along with the `scipy.io.netcdf` namespace. `scipy.io.netcdf.NetCDFFile` will be removed in SciPy 1.14.0, and the `scipy.io.netcdf` namespace will be removed in SciPy 2.0.0.\n",
      "  file2read_2017 = netcdf.NetCDFFile('../data/yearly_discharge/discharge_2017.nc','r')\n",
      "/var/folders/88/dz760h_j197bwmcvghz9mrkh0000gn/T/ipykernel_64108/2496670625.py:6: DeprecationWarning: `scipy.io.netcdf.NetCDFFile` is deprecated along with the `scipy.io.netcdf` namespace. `scipy.io.netcdf.NetCDFFile` will be removed in SciPy 1.14.0, and the `scipy.io.netcdf` namespace will be removed in SciPy 2.0.0.\n",
      "  file2read_2018 = netcdf.NetCDFFile('../data/yearly_discharge/discharge_2018.nc','r')\n",
      "/var/folders/88/dz760h_j197bwmcvghz9mrkh0000gn/T/ipykernel_64108/2496670625.py:7: DeprecationWarning: `scipy.io.netcdf.NetCDFFile` is deprecated along with the `scipy.io.netcdf` namespace. `scipy.io.netcdf.NetCDFFile` will be removed in SciPy 1.14.0, and the `scipy.io.netcdf` namespace will be removed in SciPy 2.0.0.\n",
      "  file2read_2019 = netcdf.NetCDFFile('../data/yearly_discharge/discharge_2019.nc','r')\n"
     ]
    }
   ],
   "source": [
    "# read data from netcdf files\n",
    "\n",
    "file2read_2015 = netcdf.NetCDFFile('../data/yearly_discharge/discharge_2015.nc','r')\n",
    "file2read_2016 = netcdf.NetCDFFile('../data/yearly_discharge/discharge_2016.nc','r')\n",
    "file2read_2017 = netcdf.NetCDFFile('../data/yearly_discharge/discharge_2017.nc','r')\n",
    "file2read_2018 = netcdf.NetCDFFile('../data/yearly_discharge/discharge_2018.nc','r')\n",
    "file2read_2019 = netcdf.NetCDFFile('../data/yearly_discharge/discharge_2019.nc','r')\n",
    "\n",
    "temp_2015 = file2read_2015.variables[\"dis24\"]\n",
    "temp_2016 = file2read_2016.variables[\"dis24\"]\n",
    "temp_2017 = file2read_2017.variables[\"dis24\"]\n",
    "temp_2018 = file2read_2018.variables[\"dis24\"]\n",
    "temp_2019 = file2read_2019.variables[\"dis24\"]"
   ]
  },
  {
   "cell_type": "code",
   "execution_count": 6,
   "metadata": {},
   "outputs": [],
   "source": [
    "# select longitude and latitude\n",
    "lon_values = file2read_2015.variables[\"lon\"][:]\n",
    "lat_values = file2read_2015.variables[\"lat\"][:]"
   ]
  },
  {
   "cell_type": "code",
   "execution_count": 7,
   "metadata": {},
   "outputs": [],
   "source": [
    "# preprocessing\n",
    "\n",
    "data_2015 = temp_2015[:]*1\n",
    "data_2016 = temp_2016[:]*1\n",
    "data_2017 = temp_2017[:]*1\n",
    "data_2018 = temp_2018[:]*1\n",
    "data_2019 = temp_2019[:]*1\n",
    "\n",
    "data_2015[data_2015==1e20] = np.nan\n",
    "data_2016[data_2016==1e20] = np.nan\n",
    "data_2017[data_2017==1e20] = np.nan\n",
    "data_2018[data_2018==1e20] = np.nan\n",
    "data_2019[data_2019==1e20] = np.nan"
   ]
  },
  {
   "cell_type": "markdown",
   "metadata": {},
   "source": [
    "## just 2015"
   ]
  },
  {
   "cell_type": "code",
   "execution_count": 74,
   "metadata": {},
   "outputs": [
    {
     "data": {
      "text/html": [
       "<div>\n",
       "<style scoped>\n",
       "    .dataframe tbody tr th:only-of-type {\n",
       "        vertical-align: middle;\n",
       "    }\n",
       "\n",
       "    .dataframe tbody tr th {\n",
       "        vertical-align: top;\n",
       "    }\n",
       "\n",
       "    .dataframe thead th {\n",
       "        text-align: right;\n",
       "    }\n",
       "</style>\n",
       "<table border=\"1\" class=\"dataframe\">\n",
       "  <thead>\n",
       "    <tr style=\"text-align: right;\">\n",
       "      <th></th>\n",
       "      <th>time</th>\n",
       "      <th>lon</th>\n",
       "      <th>lat</th>\n",
       "      <th>dis24</th>\n",
       "    </tr>\n",
       "  </thead>\n",
       "  <tbody>\n",
       "    <tr>\n",
       "      <th>0</th>\n",
       "      <td>2015-01-01</td>\n",
       "      <td>60.05</td>\n",
       "      <td>37.95</td>\n",
       "      <td>0.000119</td>\n",
       "    </tr>\n",
       "    <tr>\n",
       "      <th>1</th>\n",
       "      <td>2015-01-01</td>\n",
       "      <td>60.05</td>\n",
       "      <td>37.85</td>\n",
       "      <td>0.001098</td>\n",
       "    </tr>\n",
       "    <tr>\n",
       "      <th>2</th>\n",
       "      <td>2015-01-01</td>\n",
       "      <td>60.05</td>\n",
       "      <td>37.75</td>\n",
       "      <td>0.000071</td>\n",
       "    </tr>\n",
       "    <tr>\n",
       "      <th>3</th>\n",
       "      <td>2015-01-01</td>\n",
       "      <td>60.05</td>\n",
       "      <td>37.65</td>\n",
       "      <td>0.000046</td>\n",
       "    </tr>\n",
       "    <tr>\n",
       "      <th>4</th>\n",
       "      <td>2015-01-01</td>\n",
       "      <td>60.05</td>\n",
       "      <td>37.55</td>\n",
       "      <td>0.000217</td>\n",
       "    </tr>\n",
       "    <tr>\n",
       "      <th>...</th>\n",
       "      <td>...</td>\n",
       "      <td>...</td>\n",
       "      <td>...</td>\n",
       "      <td>...</td>\n",
       "    </tr>\n",
       "    <tr>\n",
       "      <th>123995</th>\n",
       "      <td>2015-01-01</td>\n",
       "      <td>99.95</td>\n",
       "      <td>7.45</td>\n",
       "      <td>9.600554</td>\n",
       "    </tr>\n",
       "    <tr>\n",
       "      <th>123996</th>\n",
       "      <td>2015-01-01</td>\n",
       "      <td>99.95</td>\n",
       "      <td>7.35</td>\n",
       "      <td>4.929910</td>\n",
       "    </tr>\n",
       "    <tr>\n",
       "      <th>123997</th>\n",
       "      <td>2015-01-01</td>\n",
       "      <td>99.95</td>\n",
       "      <td>7.25</td>\n",
       "      <td>3.744672</td>\n",
       "    </tr>\n",
       "    <tr>\n",
       "      <th>123998</th>\n",
       "      <td>2015-01-01</td>\n",
       "      <td>99.95</td>\n",
       "      <td>7.15</td>\n",
       "      <td>7.509447</td>\n",
       "    </tr>\n",
       "    <tr>\n",
       "      <th>123999</th>\n",
       "      <td>2015-01-01</td>\n",
       "      <td>99.95</td>\n",
       "      <td>7.05</td>\n",
       "      <td>11.222313</td>\n",
       "    </tr>\n",
       "  </tbody>\n",
       "</table>\n",
       "<p>77742 rows × 4 columns</p>\n",
       "</div>"
      ],
      "text/plain": [
       "             time    lon    lat      dis24\n",
       "0      2015-01-01  60.05  37.95   0.000119\n",
       "1      2015-01-01  60.05  37.85   0.001098\n",
       "2      2015-01-01  60.05  37.75   0.000071\n",
       "3      2015-01-01  60.05  37.65   0.000046\n",
       "4      2015-01-01  60.05  37.55   0.000217\n",
       "...           ...    ...    ...        ...\n",
       "123995 2015-01-01  99.95   7.45   9.600554\n",
       "123996 2015-01-01  99.95   7.35   4.929910\n",
       "123997 2015-01-01  99.95   7.25   3.744672\n",
       "123998 2015-01-01  99.95   7.15   7.509447\n",
       "123999 2015-01-01  99.95   7.05  11.222313\n",
       "\n",
       "[77742 rows x 4 columns]"
      ]
     },
     "execution_count": 74,
     "metadata": {},
     "output_type": "execute_result"
    }
   ],
   "source": [
    "import xarray as xr\n",
    "\n",
    "# Open the netCDF file using xarray\n",
    "data_2015 = xr.open_dataset('../data/yearly_discharge/discharge_2015.nc')\n",
    "\n",
    "# Convert the xarray Dataset to a pandas DataFrame\n",
    "df = data_2015.to_dataframe()\n",
    "\n",
    "# Reset the index to flatten the multi-index DataFrame\n",
    "df.reset_index(inplace=True)\n",
    "\n",
    "# drop missing\n",
    "df.replace(1e20, np.nan, inplace=True)\n",
    "df.dropna(inplace=True)\n",
    "\n",
    "to_plot = df[df['time']=='2015-01-01']\n",
    "\n",
    "to_plot"
   ]
  },
  {
   "cell_type": "markdown",
   "metadata": {},
   "source": [
    "#### map"
   ]
  },
  {
   "cell_type": "code",
   "execution_count": 76,
   "metadata": {},
   "outputs": [
    {
     "name": "stderr",
     "output_type": "stream",
     "text": [
      "/Users/smart/Library/Python/3.9/lib/python/site-packages/pyproj/crs/crs.py:141: FutureWarning: '+init=<authority>:<code>' syntax is deprecated. '<authority>:<code>' is the preferred initialization method. When making the change, be mindful of axis order changes: https://pyproj4.github.io/pyproj/stable/gotchas.html#axis-order-changes-in-proj-6\n",
      "  in_crs_string = _prepare_from_proj_string(in_crs_string)\n"
     ]
    },
    {
     "data": {
      "text/html": [
       "<div>\n",
       "<style scoped>\n",
       "    .dataframe tbody tr th:only-of-type {\n",
       "        vertical-align: middle;\n",
       "    }\n",
       "\n",
       "    .dataframe tbody tr th {\n",
       "        vertical-align: top;\n",
       "    }\n",
       "\n",
       "    .dataframe thead th {\n",
       "        text-align: right;\n",
       "    }\n",
       "</style>\n",
       "<table border=\"1\" class=\"dataframe\">\n",
       "  <thead>\n",
       "    <tr style=\"text-align: right;\">\n",
       "      <th></th>\n",
       "      <th>time</th>\n",
       "      <th>lon</th>\n",
       "      <th>lat</th>\n",
       "      <th>dis24</th>\n",
       "      <th>geometry</th>\n",
       "    </tr>\n",
       "  </thead>\n",
       "  <tbody>\n",
       "    <tr>\n",
       "      <th>0</th>\n",
       "      <td>2015-01-01</td>\n",
       "      <td>60.05</td>\n",
       "      <td>37.95</td>\n",
       "      <td>0.000119</td>\n",
       "      <td>POINT (60.05000 37.95000)</td>\n",
       "    </tr>\n",
       "    <tr>\n",
       "      <th>1</th>\n",
       "      <td>2015-01-01</td>\n",
       "      <td>60.05</td>\n",
       "      <td>37.85</td>\n",
       "      <td>0.001098</td>\n",
       "      <td>POINT (60.05000 37.85000)</td>\n",
       "    </tr>\n",
       "    <tr>\n",
       "      <th>2</th>\n",
       "      <td>2015-01-01</td>\n",
       "      <td>60.05</td>\n",
       "      <td>37.75</td>\n",
       "      <td>0.000071</td>\n",
       "      <td>POINT (60.05000 37.75000)</td>\n",
       "    </tr>\n",
       "    <tr>\n",
       "      <th>3</th>\n",
       "      <td>2015-01-01</td>\n",
       "      <td>60.05</td>\n",
       "      <td>37.65</td>\n",
       "      <td>0.000046</td>\n",
       "      <td>POINT (60.05000 37.65000)</td>\n",
       "    </tr>\n",
       "    <tr>\n",
       "      <th>4</th>\n",
       "      <td>2015-01-01</td>\n",
       "      <td>60.05</td>\n",
       "      <td>37.55</td>\n",
       "      <td>0.000217</td>\n",
       "      <td>POINT (60.05000 37.55000)</td>\n",
       "    </tr>\n",
       "  </tbody>\n",
       "</table>\n",
       "</div>"
      ],
      "text/plain": [
       "        time    lon    lat     dis24                   geometry\n",
       "0 2015-01-01  60.05  37.95  0.000119  POINT (60.05000 37.95000)\n",
       "1 2015-01-01  60.05  37.85  0.001098  POINT (60.05000 37.85000)\n",
       "2 2015-01-01  60.05  37.75  0.000071  POINT (60.05000 37.75000)\n",
       "3 2015-01-01  60.05  37.65  0.000046  POINT (60.05000 37.65000)\n",
       "4 2015-01-01  60.05  37.55  0.000217  POINT (60.05000 37.55000)"
      ]
     },
     "execution_count": 76,
     "metadata": {},
     "output_type": "execute_result"
    }
   ],
   "source": [
    "crs = {'init':'epsg:4326'}\n",
    "geometry = [Point(xy) for xy in zip(to_plot['lon'], to_plot['lat'])]\n",
    "\n",
    "geo_df = gpd.GeoDataFrame(to_plot, #specify our data\n",
    "                          crs=crs, #specify our coordinate reference system\n",
    "                          geometry=geometry) #specify the geometry list we created\n",
    "geo_df.head()"
   ]
  },
  {
   "cell_type": "code",
   "execution_count": 79,
   "metadata": {},
   "outputs": [
    {
     "data": {
      "text/plain": [
       "<Axes: >"
      ]
     },
     "execution_count": 79,
     "metadata": {},
     "output_type": "execute_result"
    },
    {
     "data": {
      "image/png": "[encoded data removed]",
      "text/plain": [
       "<Figure size 1300x600 with 1 Axes>"
      ]
     },
     "metadata": {},
     "output_type": "display_data"
    }
   ],
   "source": [
    "fig, ax = plt.subplots(figsize=(13,6))\n",
    "\n",
    "river_map = gpd.read_file('../data/centerlines_data/ne_110m_rivers_lake_centerlines.shp')\n",
    "brahmaputra = river_map[river_map['name'] == 'Brahmaputra']\n",
    "\n",
    "geo_df.plot(ax=ax, markersize=20, marker='o')\n",
    "brahmaputra.plot(ax=ax, color='orange')"
   ]
  },
  {
   "cell_type": "code",
   "execution_count": 51,
   "metadata": {},
   "outputs": [
    {
     "name": "stderr",
     "output_type": "stream",
     "text": [
      "/Users/smart/Library/Python/3.9/lib/python/site-packages/pyproj/crs/crs.py:141: FutureWarning: '+init=<authority>:<code>' syntax is deprecated. '<authority>:<code>' is the preferred initialization method. When making the change, be mindful of axis order changes: https://pyproj4.github.io/pyproj/stable/gotchas.html#axis-order-changes-in-proj-6\n",
      "  in_crs_string = _prepare_from_proj_string(in_crs_string)\n"
     ]
    },
    {
     "data": {
      "image/png": "[encoded data removed]",
      "text/plain": [
       "<Figure size 1500x600 with 1 Axes>"
      ]
     },
     "metadata": {},
     "output_type": "display_data"
    }
   ],
   "source": [
    "river_map = gpd.read_file('../data/centerlines_data/ne_110m_rivers_lake_centerlines.shp')\n",
    "brahmaputra = river_map[river_map['name'] == 'Brahmaputra']\n",
    "\n",
    "# basins = gpd.read_file('../data/world_basins/Major_Basins_of_the_World.shp')\n",
    "# print(basins.head())\n",
    "\n",
    "fig, ax = plt.subplots(figsize=(15,6))\n",
    "brahmaputra.plot(ax=ax)\n",
    "\n",
    "gdf.crs = {'init': 'epsg:4326'}\n",
    "gdf.plot(ax=ax, markersize=5, label='Pos');"
   ]
  },
  {
   "cell_type": "code",
   "execution_count": 65,
   "metadata": {},
   "outputs": [
    {
     "data": {
      "image/png": "[encoded data removed]",
      "text/plain": [
       "<Figure size 1500x600 with 1 Axes>"
      ]
     },
     "metadata": {},
     "output_type": "display_data"
    }
   ],
   "source": [
    "import geopandas as gpd\n",
    "from shapely.geometry import Point\n",
    "import numpy as np\n",
    "import matplotlib.pyplot as plt\n",
    "\n",
    "# Load river map\n",
    "river_map = gpd.read_file('../data/centerlines_data/ne_110m_rivers_lake_centerlines.shp')\n",
    "brahmaputra = river_map[river_map['name'] == 'Brahmaputra']\n",
    "\n",
    "# Create the figure and axis\n",
    "fig, ax = plt.subplots(figsize=(15, 6))\n",
    "\n",
    "# Plot Brahmaputra river\n",
    "brahmaputra.plot(ax=ax)\n",
    "\n",
    "# Flatten lon and lat arrays\n",
    "valid_lon_values_flat = valid_lon_values.flatten()\n",
    "valid_lat_values_flat = valid_lat_values.flatten()\n",
    "\n",
    "# Create DataFrame with valid lon and lat values\n",
    "df = pd.DataFrame({'lon': valid_lon_values_flat, 'lat': valid_lat_values_flat})\n",
    "\n",
    "# drop missing\n",
    "df.replace(1e20, np.nan, inplace=True)\n",
    "df.dropna(inplace=True)\n",
    "\n",
    "# Create GeoDataFrame with geometry column\n",
    "geometry = [Point(xy) for xy in zip(df['lon'], df['lat'])]\n",
    "gdf = gpd.GeoDataFrame(geometry, columns=['geometry'], crs=river_map.crs)\n",
    "\n",
    "# Plot discharge data on top of the river map\n",
    "gdf.plot(ax=ax, markersize=5, color='red', label='Discharge Points')\n",
    "\n",
    "# Set plot title and legend\n",
    "plt.title('Brahmaputra River with Discharge Data Points')\n",
    "plt.legend()\n",
    "\n",
    "# Show plot\n",
    "plt.show()\n"
   ]
  },
  {
   "cell_type": "code",
   "execution_count": 68,
   "metadata": {},
   "outputs": [
    {
     "data": {
      "text/html": [
       "<div>\n",
       "<style scoped>\n",
       "    .dataframe tbody tr th:only-of-type {\n",
       "        vertical-align: middle;\n",
       "    }\n",
       "\n",
       "    .dataframe tbody tr th {\n",
       "        vertical-align: top;\n",
       "    }\n",
       "\n",
       "    .dataframe thead th {\n",
       "        text-align: right;\n",
       "    }\n",
       "</style>\n",
       "<table border=\"1\" class=\"dataframe\">\n",
       "  <thead>\n",
       "    <tr style=\"text-align: right;\">\n",
       "      <th></th>\n",
       "      <th>lon</th>\n",
       "      <th>lat</th>\n",
       "    </tr>\n",
       "  </thead>\n",
       "  <tbody>\n",
       "    <tr>\n",
       "      <th>0</th>\n",
       "      <td>60.05</td>\n",
       "      <td>37.95</td>\n",
       "    </tr>\n",
       "    <tr>\n",
       "      <th>1</th>\n",
       "      <td>60.15</td>\n",
       "      <td>37.95</td>\n",
       "    </tr>\n",
       "    <tr>\n",
       "      <th>2</th>\n",
       "      <td>60.25</td>\n",
       "      <td>37.95</td>\n",
       "    </tr>\n",
       "    <tr>\n",
       "      <th>3</th>\n",
       "      <td>60.35</td>\n",
       "      <td>37.95</td>\n",
       "    </tr>\n",
       "    <tr>\n",
       "      <th>4</th>\n",
       "      <td>60.45</td>\n",
       "      <td>37.95</td>\n",
       "    </tr>\n",
       "    <tr>\n",
       "      <th>...</th>\n",
       "      <td>...</td>\n",
       "      <td>...</td>\n",
       "    </tr>\n",
       "    <tr>\n",
       "      <th>123995</th>\n",
       "      <td>99.55</td>\n",
       "      <td>7.05</td>\n",
       "    </tr>\n",
       "    <tr>\n",
       "      <th>123996</th>\n",
       "      <td>99.65</td>\n",
       "      <td>7.05</td>\n",
       "    </tr>\n",
       "    <tr>\n",
       "      <th>123997</th>\n",
       "      <td>99.75</td>\n",
       "      <td>7.05</td>\n",
       "    </tr>\n",
       "    <tr>\n",
       "      <th>123998</th>\n",
       "      <td>99.85</td>\n",
       "      <td>7.05</td>\n",
       "    </tr>\n",
       "    <tr>\n",
       "      <th>123999</th>\n",
       "      <td>99.95</td>\n",
       "      <td>7.05</td>\n",
       "    </tr>\n",
       "  </tbody>\n",
       "</table>\n",
       "<p>124000 rows × 2 columns</p>\n",
       "</div>"
      ],
      "text/plain": [
       "          lon    lat\n",
       "0       60.05  37.95\n",
       "1       60.15  37.95\n",
       "2       60.25  37.95\n",
       "3       60.35  37.95\n",
       "4       60.45  37.95\n",
       "...       ...    ...\n",
       "123995  99.55   7.05\n",
       "123996  99.65   7.05\n",
       "123997  99.75   7.05\n",
       "123998  99.85   7.05\n",
       "123999  99.95   7.05\n",
       "\n",
       "[124000 rows x 2 columns]"
      ]
     },
     "execution_count": 68,
     "metadata": {},
     "output_type": "execute_result"
    }
   ],
   "source": [
    "df"
   ]
  },
  {
   "cell_type": "code",
   "execution_count": 67,
   "metadata": {},
   "outputs": [
    {
     "data": {
      "text/html": [
       "<div>\n",
       "<style scoped>\n",
       "    .dataframe tbody tr th:only-of-type {\n",
       "        vertical-align: middle;\n",
       "    }\n",
       "\n",
       "    .dataframe tbody tr th {\n",
       "        vertical-align: top;\n",
       "    }\n",
       "\n",
       "    .dataframe thead th {\n",
       "        text-align: right;\n",
       "    }\n",
       "</style>\n",
       "<table border=\"1\" class=\"dataframe\">\n",
       "  <thead>\n",
       "    <tr style=\"text-align: right;\">\n",
       "      <th></th>\n",
       "      <th>geometry</th>\n",
       "    </tr>\n",
       "  </thead>\n",
       "  <tbody>\n",
       "    <tr>\n",
       "      <th>0</th>\n",
       "      <td>POINT (60.05000 37.95000)</td>\n",
       "    </tr>\n",
       "    <tr>\n",
       "      <th>1</th>\n",
       "      <td>POINT (60.15000 37.95000)</td>\n",
       "    </tr>\n",
       "    <tr>\n",
       "      <th>2</th>\n",
       "      <td>POINT (60.25000 37.95000)</td>\n",
       "    </tr>\n",
       "    <tr>\n",
       "      <th>3</th>\n",
       "      <td>POINT (60.35000 37.95000)</td>\n",
       "    </tr>\n",
       "    <tr>\n",
       "      <th>4</th>\n",
       "      <td>POINT (60.45000 37.95000)</td>\n",
       "    </tr>\n",
       "    <tr>\n",
       "      <th>...</th>\n",
       "      <td>...</td>\n",
       "    </tr>\n",
       "    <tr>\n",
       "      <th>123995</th>\n",
       "      <td>POINT (99.55000 7.05000)</td>\n",
       "    </tr>\n",
       "    <tr>\n",
       "      <th>123996</th>\n",
       "      <td>POINT (99.65000 7.05000)</td>\n",
       "    </tr>\n",
       "    <tr>\n",
       "      <th>123997</th>\n",
       "      <td>POINT (99.75000 7.05000)</td>\n",
       "    </tr>\n",
       "    <tr>\n",
       "      <th>123998</th>\n",
       "      <td>POINT (99.85000 7.05000)</td>\n",
       "    </tr>\n",
       "    <tr>\n",
       "      <th>123999</th>\n",
       "      <td>POINT (99.95000 7.05000)</td>\n",
       "    </tr>\n",
       "  </tbody>\n",
       "</table>\n",
       "<p>124000 rows × 1 columns</p>\n",
       "</div>"
      ],
      "text/plain": [
       "                         geometry\n",
       "0       POINT (60.05000 37.95000)\n",
       "1       POINT (60.15000 37.95000)\n",
       "2       POINT (60.25000 37.95000)\n",
       "3       POINT (60.35000 37.95000)\n",
       "4       POINT (60.45000 37.95000)\n",
       "...                           ...\n",
       "123995   POINT (99.55000 7.05000)\n",
       "123996   POINT (99.65000 7.05000)\n",
       "123997   POINT (99.75000 7.05000)\n",
       "123998   POINT (99.85000 7.05000)\n",
       "123999   POINT (99.95000 7.05000)\n",
       "\n",
       "[124000 rows x 1 columns]"
      ]
     },
     "execution_count": 67,
     "metadata": {},
     "output_type": "execute_result"
    }
   ],
   "source": [
    "gdf"
   ]
  },
  {
   "cell_type": "code",
   "execution_count": null,
   "metadata": {},
   "outputs": [],
   "source": []
  }
 ],
 "metadata": {
  "kernelspec": {
   "display_name": "Python 3",
   "language": "python",
   "name": "python3"
  },
  "language_info": {
   "codemirror_mode": {
    "name": "ipython",
    "version": 3
   },
   "file_extension": ".py",
   "mimetype": "text/x-python",
   "name": "python",
   "nbconvert_exporter": "python",
   "pygments_lexer": "ipython3",
   "version": "3.9.6"
  }
 },
 "nbformat": 4,
 "nbformat_minor": 2
}
